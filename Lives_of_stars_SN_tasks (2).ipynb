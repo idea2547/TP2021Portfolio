{
 "cells": [
  {
   "cell_type": "markdown",
   "metadata": {},
   "source": [
    "# Supernova Remnants Notebook\n",
    "\n",
    "### Task 1\n",
    "In this task you will plot the analytical solutions for the Sedov-Taylor phase of the evolution of a supernova remnant. "
   ]
  },
  {
   "cell_type": "markdown",
   "metadata": {},
   "source": [
    "First load the modules you will need (numpy and matplotlib)."
   ]
  },
  {
   "cell_type": "code",
   "execution_count": 76,
   "metadata": {},
   "outputs": [],
   "source": [
    "import matplotlib\n",
    "import numpy as np\n",
    "from math import *\n",
    "import matplotlib.pyplot as plt\n",
    "from datetime import datetime\n"
   ]
  },
  {
   "cell_type": "markdown",
   "metadata": {},
   "source": [
    "To calculate these quantities correctly we need to make sure all values are using the same system of units. Here we are using cgs (centimetres, grams, seconds).\n",
    "To input and output the values it makes more sense to have them in units more suited to astronomy, to make them easier to read.\n",
    "\n",
    "Define some constants that can be multiplied by the output values so we can print them out in useful units.\n",
    "\n",
    "For example, time will be calculated in seconds but it is more useful for us to output it in years, or Megayears. \n",
    "So we can define:\n",
    "\n",
    "$sectoyear = 60 \\times 60 \\times 24 \\times 365.25$\n",
    "\n",
    "Then multiply this by the output to ensure the time we are reading is printed in years. \n",
    "\n",
    "Lengths will be calculated in $cm$ - but we want them in $pc$.\n",
    "\n",
    "Velocities will be calculated in $cm/s$ - but we want them in $km/s$.\n",
    "\n",
    "Masses will be calculated in grams - but we want them in solar masses. "
   ]
  },
  {
   "cell_type": "code",
   "execution_count": 77,
   "metadata": {},
   "outputs": [
    {
     "name": "stdout",
     "output_type": "stream",
     "text": [
      "5.02785e-34\n"
     ]
    }
   ],
   "source": [
    "parsec_length = 1 * 3.2408 * (10 ** -19) # parsec length\n",
    "Velocities = 1 * (10 ** -5) \n",
    "solar_masses = 1 * 5.02785 * (10 ** -34) #convert gram to solar masses unit\n",
    "print(float(solar_masses))"
   ]
  },
  {
   "cell_type": "markdown",
   "metadata": {},
   "source": [
    "Now we need to define some constant values such as the explosion energy and ambient density of the surrounding *ISM (interstellar medium)*. \n",
    "\n",
    "Ambient density = 1.E-26   (units = $g /{cm}^3$)\n",
    "\n",
    "Explosion energy = 1.E51 (units = $erg$)\n",
    "\n",
    "(These are both in cgs units so they don't need to be converted)\n",
    "\n",
    "We should also define the mass of the ejected stellar material. For a type II supnernova this would be above 8M$_{\\odot}$, for a type Ia supernova it would be much lower as the white dwarf has already blown all of the external stellar material away. We could estimate it to be below 1M$_{\\odot}$ in this case. \n",
    "Remember the mass will need to be converted into cgs!"
   ]
  },
  {
   "cell_type": "code",
   "execution_count": 78,
   "metadata": {},
   "outputs": [],
   "source": [
    "Ambient_density = 1. * (10 ** -26)\n",
    "Explosion_energy = 1. * (10 ** 51)"
   ]
  },
  {
   "cell_type": "markdown",
   "metadata": {},
   "source": [
    "We are going to be calculating the radius and velocity of the expanding shell during the Sedov-Taylor (ST) phase of the evolution of the SNR. \n",
    "To get the initial values for the velocity and radius of the swept up shell for the ST phase, we can estimate the velocity at the end of the free expansion phase.\n",
    "\n",
    "Work out the initial velocity of the ejected stellar material using the equation below, assuming the explosion energy is converted to kinetic energy. \n",
    "\n",
    "### $E_{SN}$ = $\\frac{1}{2} M_{e}v_{e}^2$\n"
   ]
  },
  {
   "cell_type": "code",
   "execution_count": 79,
   "metadata": {},
   "outputs": [
    {
     "name": "stdout",
     "output_type": "stream",
     "text": [
      "1.994453161193333e+42\n"
     ]
    }
   ],
   "source": [
    "\n",
    "init_velocity = ((2 * Explosion_energy) / (solar_masses)) ** (1/2)\n",
    "print(init_velocity)"
   ]
  },
  {
   "cell_type": "markdown",
   "metadata": {},
   "source": [
    "### Task 2\n",
    "\n",
    "Next we can work out the shell radius (in parsec) at the end of the free expansion phase, then the time it has taken (in years) to reach that radius. Use the equations below and assume the velocity in the free expansion phase is constant.\n",
    "\n",
    "$\\rho_{0}$ is the ambient density of the surrounding interstellar medium.\n",
    "\n",
    "### $R_{SW} = \\left(\\frac{3M_{e}}{4\\pi\\rho_{0}}\\right)^{1/3}$\n",
    "\n",
    "### $t_{SW} = \\frac{R_{SW}}{v_{e}}$"
   ]
  },
  {
   "cell_type": "code",
   "execution_count": 80,
   "metadata": {},
   "outputs": [],
   "source": [
    "Shell_Radius_f = ((3 * solar_masses) / (4 * pi * Ambient_density)) ** (1/3)\n",
    "time_to_reach_year = Shell_Radius_f/init_velocity"
   ]
  },
  {
   "cell_type": "markdown",
   "metadata": {},
   "source": [
    "### Task 3\n",
    "\n",
    "Now work out the radius and velocity of the expanding shell of gas as a function of time during the Sedov-Taylor phase (where the time starts at the end of the free expansion phase). \n",
    "\n",
    "### $R_{Sed}(t) = \\left(\\frac{25E_{SN}}{4\\pi\\rho_{0}}\\right)^{1/5}t^{2/5}$\n",
    "\n",
    "### $V_{Sed}(t) = \\frac{2}{5}\\left(\\frac{25E_{SN}}{4\\pi\\rho_{0}}\\right)^{1/5}t^{-3/5}$\n",
    "\n",
    "Remember to use cgs units for the values in your calculations, then convert back to more sensible values (i.e. parsec,  years and km/s) afterwards. "
   ]
  },
  {
   "cell_type": "code",
   "execution_count": 81,
   "metadata": {},
   "outputs": [],
   "source": [
    "\n",
    "def Sedov_phase_radius(time):\n",
    "    Shell_radius = ((25 * Explosion_energy) / (4 * pi * Ambient_density)) ** (1/5) * (time) ** (2/5)\n",
    "    return Shell_radius\n",
    "    \n",
    "def Sedov_phase_velocity(time):\n",
    "    Shell_velocity = (2/5) * ((25 * Explosion_energy) / (4 * pi * Ambient_density)) ** (1/5) * (time) ** (-3/5)\n",
    "    return Shell_velocity\n"
   ]
  },
  {
   "cell_type": "markdown",
   "metadata": {},
   "source": [
    "Use the subplot function within matplotlib to create two plots showing the evolution of the shell radius with time and the shell velocity with time. \n",
    "\n",
    "Remember to add titles and axis labels. "
   ]
  },
  {
   "cell_type": "code",
   "execution_count": 82,
   "metadata": {
    "scrolled": true
   },
   "outputs": [
    {
     "data": {
      "image/png": "[encoded data removed]",
      "text/plain": [
       "<Figure size 432x288 with 2 Axes>"
      ]
     },
     "metadata": {
      "needs_background": "light"
     },
     "output_type": "display_data"
    }
   ],
   "source": [
    "fig, a = plt.subplots(1,2, squeeze=False)\n",
    "x = np.arange(1,1000)\n",
    "a[0][0].set_title('Evolution of shell radius and time')\n",
    "a[0][0].plot(x, Sedov_phase_radius(x))\n",
    "a[0][1].plot(x, Sedov_phase_velocity(x))\n",
    "a[0][1].set_title('Evolution of shell velocity and time')\n",
    "\n",
    "plt.setp(a[-1, :], xlabel='time')\n",
    "plt.setp(a[0, 0], ylabel='radius')\n",
    "plt.setp(a[0, 1], ylabel='velocity')\n",
    "\n",
    "plt.show()\n"
   ]
  },
  {
   "cell_type": "markdown",
   "metadata": {},
   "source": [
    "### Task 4\n",
    "\n",
    "Now we can apply our estmations for the radius and velocity of a SNR to an observed SNR.\n",
    "\n",
    "The SNR Tycho has an age of 442 years and an ISM density, $\\rho_{0} = 3.34\\times10^{-25}$gcm$^{-3}$\n",
    "\n",
    "Using this information and the equations above, estimate the radius and velocity of the Tycho SNR (you can use the same supernova energy as earlier).\n",
    "\n"
   ]
  },
  {
   "cell_type": "code",
   "execution_count": 83,
   "metadata": {},
   "outputs": [
    {
     "name": "stdout",
     "output_type": "stream",
     "text": [
      "5.2900461440306\n",
      "4681.025263643828\n"
     ]
    }
   ],
   "source": [
    "#SNR Tycho\n",
    "sectoyear=60*60*24*365.25\n",
    "age_snr = 442 * sectoyear\n",
    "Ism_density = 3.34 * (10 ** -25)\n",
    "\n",
    "Tycho_SNR_radius = ((25 * Explosion_energy) / (4 * pi * Ism_density)) ** (1/5) * (age_snr) ** (2/5)\n",
    "Tycho_SNR_velocity = (2/5) * ((25 * Explosion_energy) / (4 * pi *Ism_density)) ** (1/5) * (age_snr) ** (-3/5)\n",
    "\n",
    "print(Tycho_SNR_radius * parsec_length)\n",
    "print(Tycho_SNR_velocity * Velocities)"
   ]
  },
  {
   "cell_type": "markdown",
   "metadata": {},
   "source": [
    "The real radius of the Tycho SNR is 3.7pc and the shock velocity is around 4500km/s. \n",
    "So we can get close values with our very simple models!"
   ]
  },
  {
   "cell_type": "markdown",
   "metadata": {},
   "source": [
    "### Task 5\n",
    "\n",
    "What elements are made in a core-collapse supernovae (CCSNe)? They are the main source of oxygen in nature! In this task you will read in the mass coordinates of the ejecta and the abundances from a real CCSN model (by Ritter et al. 2018, MNRAS - https://ui.adsabs.harvard.edu/abs/2018MNRAS.480..538R/abstract) for a progenitor of 15M$_{\\odot}$ and solar metallicity. Plot the abundances with respect to mass coordinate and calculate the ejected elements in solar masses.\n",
    "\n",
    "First, read in the date from the file 'm15z0p02_abundances_mass.txt'"
   ]
  },
  {
   "cell_type": "code",
   "execution_count": null,
   "metadata": {},
   "outputs": [],
   "source": []
  },
  {
   "cell_type": "markdown",
   "metadata": {},
   "source": [
    "Now set up the data ready for plotting. You will need to create an array with the mass coordinates and an array for each isotope provided. "
   ]
  },
  {
   "cell_type": "code",
   "execution_count": 84,
   "metadata": {},
   "outputs": [
    {
     "name": "stdout",
     "output_type": "stream",
     "text": [
      "\n",
      "['1.610542E+00', '1.610847E+00', '1.611305E+00', '1.611764E+00', '1.612069E+00', '1.612527E+00', '1.612985E+00', '1.613291E+00', '1.613596E+00', '1.613902E+00', '1.614360E+00', '1.614971E+00', '1.615482E+00', '1.615895E+00', '1.616307E+00', '1.616719E+00', '1.617132E+00', '1.617544E+00', '1.617956E+00', '1.618369E+00', '1.618914E+00', '1.619422E+00', '1.619760E+00', '1.620099E+00', '1.620438E+00', '1.620946E+00', '1.621454E+00', '1.621792E+00', '1.622300E+00', '1.622808E+00', '1.623147E+00', '1.623655E+00', '1.624197E+00', '1.624604E+00', '1.625215E+00', '1.625826E+00', '1.626233E+00', '1.626640E+00', '1.627047E+00', '1.627457E+00', '1.627870E+00', '1.628489E+00', '1.629108E+00', '1.629521E+00', '1.629933E+00', '1.630346E+00', '1.630965E+00', '1.631584E+00', '1.631996E+00', '1.632409E+00', '1.632822E+00', '1.633441E+00', '1.634053E+00', '1.634452E+00', '1.635051E+00', '1.635650E+00', '1.636050E+00', '1.636449E+00', '1.636848E+00', '1.637319E+00', '1.637862E+00', '1.638405E+00', '1.638948E+00', '1.639491E+00', '1.640033E+00', '1.640441E+00', '1.640712E+00', '1.641119E+00', '1.641812E+00', '1.642445E+00', '1.642866E+00', '1.643288E+00', '1.643710E+00', '1.644342E+00', '1.644974E+00', '1.645396E+00', '1.646029E+00', '1.646661E+00', '1.647083E+00', '1.647715E+00', '1.648419E+00', '1.648982E+00', '1.649545E+00', '1.650109E+00', '1.650672E+00', '1.651236E+00', '1.651799E+00', '1.652363E+00', '1.653037E+00', '1.653823E+00', '1.654412E+00', '1.654804E+00', '1.655393E+00', '1.655982E+00', '1.656375E+00', '1.656964E+00', '1.657750E+00', '1.658339E+00', '1.658732E+00', '1.659230E+00', '1.659836E+00', '1.660441E+00', '1.661046E+00', '1.661651E+00', '1.662256E+00', '1.662861E+00', '1.663466E+00', '1.664225E+00', '1.664909E+00', '1.665365E+00', '1.665821E+00', '1.666277E+00', '1.666962E+00', '1.667767E+00', '1.668467E+00', '1.669166E+00', '1.669690E+00', '1.670040E+00', '1.670467E+00', '1.670971E+00', '1.671475E+00', '1.671980E+00', '1.672534E+00', '1.673139E+00', '1.673744E+00', '1.674349E+00', '1.674803E+00', '1.675106E+00', '1.675559E+00', '1.676164E+00', '1.676769E+00', '1.677298E+00', '1.677749E+00', '1.678425E+00', '1.679328E+00', '1.680004E+00', '1.680456E+00', '1.681234E+00', '1.682062E+00', '1.682615E+00', '1.683167E+00', '1.683719E+00', '1.684548E+00', '1.685349E+00', '1.685846E+00', '1.686591E+00', '1.687336E+00', '1.687832E+00', '1.688577E+00', '1.689482E+00', '1.690093E+00', '1.690501E+00', '1.691112E+00', '1.691928E+00', '1.692615E+00', '1.693174E+00', '1.694013E+00', '1.694835E+00', '1.695359E+00', '1.695883E+00', '1.696407E+00', '1.697212E+00', '1.698026E+00', '1.698569E+00', '1.699045E+00', '1.699453E+00', '1.700065E+00', '1.700880E+00', '1.701696E+00', '1.702491E+00', '1.703263E+00', '1.704115E+00', '1.704814E+00', '1.705279E+00', '1.705804E+00', '1.706388E+00', '1.706971E+00', '1.707555E+00', '1.708340E+00', '1.709326E+00', '1.710101E+00', '1.710665E+00', '1.711087E+00', '1.711369E+00', '1.711859E+00', '1.712557E+00', '1.713256E+00', '1.713954E+00', '1.714769E+00', '1.715626E+00', '1.716604E+00', '1.717485E+00', '1.718072E+00', '1.718705E+00', '1.719384E+00', '1.720402E+00', '1.721440E+00', '1.722159E+00', '1.722698E+00', '1.723057E+00', '1.723576E+00', '1.724256E+00', '1.725146E+00', '1.726108E+00', '1.726952E+00', '1.727815E+00', '1.728587E+00', '1.729267E+00', '1.729921E+00', '1.730591E+00', '1.731673E+00', '1.732768E+00', '1.733506E+00', '1.734410E+00', '1.735277E+00', '1.736354E+00', '1.737406E+00', '1.738157E+00', '1.739048E+00', '1.739939E+00', '1.740648E+00', '1.741176E+00', '1.741898E+00', '1.742813E+00', '1.743524E+00', '1.744032E+00', '1.744666E+00', '1.745426E+00', '1.746518E+00', '1.747584E+00', '1.748295E+00', '1.748957E+00', '1.749569E+00', '1.750406E+00', '1.751202E+00', '1.751733E+00', '1.752596E+00', '1.753492E+00', '1.754089E+00', '1.754687E+00', '1.755284E+00', '1.756158E+00', '1.757307E+00', '1.758794E+00', '1.760617E+00', '1.762633E+00', '1.764843E+00', '1.766953E+00', '1.768961E+00', '1.771199E+00', '1.773665E+00', '1.776143E+00', '1.778632E+00', '1.781473E+00', '1.784174E+00', '1.787697E+00', '1.791750E+00', '1.794820E+00', '1.798118E+00', '1.802234E+00', '1.806751E+00', '1.810127E+00', '1.811726E+00', '1.812703E+00', '1.814168E+00', '1.815580E+00', '1.817101E+00', '1.820143E+00', '1.823226E+00', '1.826332E+00', '1.829159E+00', '1.830727E+00', '1.832163E+00', '1.833240E+00', '1.833958E+00', '1.835035E+00', '1.836499E+00', '1.837990E+00', '1.839126E+00', '1.839907E+00', '1.841079E+00', '1.842220E+00', '1.842940E+00', '1.843805E+00', '1.844814E+00', '1.845728E+00', '1.846661E+00', '1.847394E+00', '1.847816E+00', '1.848449E+00', '1.849714E+00', '1.850999E+00', '1.851882E+00', '1.852676E+00', '1.853381E+00', '1.854438E+00', '1.855593E+00', '1.856492E+00', '1.857391E+00', '1.858291E+00', '1.859190E+00', '1.860540E+00', '1.862143E+00', '1.863551E+00', '1.864960E+00', '1.866368E+00', '1.867354E+00', '1.867917E+00', '1.868762E+00', '1.869889E+00', '1.871015E+00', '1.872142E+00', '1.873269E+00', '1.874395E+00', '1.875522E+00', '1.876609E+00', '1.877658E+00', '1.878706E+00', '1.879754E+00', '1.881327E+00', '1.882899E+00', '1.883948E+00', '1.884847E+00', '1.885597E+00', '1.886722E+00', '1.888222E+00', '1.889723E+00', '1.890846E+00', '1.891593E+00', '1.892714E+00', '1.894582E+00', '1.896327E+00', '1.897576E+00', '1.898638E+00', '1.899514E+00', '1.900609E+00', '1.901922E+00', '1.903152E+00', '1.904297E+00', '1.905616E+00', '1.907109E+00', '1.908377E+00', '1.909419E+00', '1.910720E+00', '1.912280E+00', '1.913450E+00', '1.914230E+00', '1.915400E+00', '1.916536E+00', '1.917603E+00', '1.918671E+00', '1.919739E+00', '1.921653E+00', '1.923345E+00', '1.924326E+00', '1.925836E+00', '1.927650E+00', '1.928841E+00', '1.930164E+00', '1.931653E+00', '1.933226E+00', '1.935016E+00', '1.936574E+00', '1.938465E+00', '1.941180E+00', '1.944387E+00', '1.947667E+00', '1.951019E+00', '1.954849E+00', '1.959157E+00', '1.964137E+00', '1.970959E+00', '1.979199E+00', '1.987252E+00', '1.995664E+00', '2.002955E+00', '2.008331E+00', '2.014029E+00', '2.020050E+00', '2.024762E+00', '2.028165E+00', '2.033271E+00', '2.038897E+00', '2.043342E+00', '2.049263E+00', '2.055206E+00', '2.059694E+00', '2.063201E+00', '2.065727E+00', '2.069515E+00', '2.073785E+00', '2.077274E+00', '2.080150E+00', '2.082413E+00', '2.085807E+00', '2.089713E+00', '2.093000E+00', '2.095465E+00', '2.097108E+00', '2.099573E+00', '2.101961E+00', '2.103449E+00', '2.105681E+00', '2.108657E+00', '2.110890E+00', '2.112378E+00', '2.113875E+00', '2.115382E+00', '2.117642E+00', '2.119998E+00', '2.121695E+00', '2.124241E+00', '2.126648E+00', '2.128068E+00', '2.129488E+00', '2.130908E+00', '2.132382E+00', '2.133908E+00', '2.136198E+00', '2.138488E+00', '2.140015E+00', '2.142305E+00', '2.144629E+00', '2.146225E+00', '2.148618E+00', '2.151011E+00', '2.152606E+00', '2.154202E+00', '2.155797E+00', '2.157070E+00', '2.158019E+00', '2.159444E+00', '2.161343E+00', '2.163242E+00', '2.164976E+00', '2.166544E+00', '2.168111E+00', '2.169679E+00', '2.171246E+00', '2.172814E+00', '2.174382E+00', '2.175949E+00', '2.178377E+00', '2.180843E+00', '2.182487E+00', '2.184953E+00', '2.187419E+00', '2.189063E+00', '2.190911E+00', '2.192963E+00', '2.195015E+00', '2.197067E+00', '2.199113E+00', '2.201153E+00', '2.203194E+00', '2.205234E+00', '2.207275E+00', '2.208805E+00', '2.209826E+00', '2.211356E+00', '2.213397E+00', '2.215333E+00', '2.217165E+00', '2.218996E+00', '2.220828E+00', '2.222660E+00', '2.224492E+00', '2.227240E+00', '2.230029E+00', '2.231944E+00', '2.233859E+00', '2.235774E+00', '2.237210E+00', '2.238167E+00', '2.239603E+00', '2.242476E+00', '2.245328E+00', '2.247201E+00', '2.249075E+00', '2.250949E+00', '2.252823E+00', '2.254697E+00', '2.257508E+00', '2.260180E+00', '2.261777E+00', '2.263374E+00', '2.264970E+00', '2.267365E+00', '2.269760E+00', '2.271357E+00', '2.273418E+00', '2.275943E+00', '2.278469E+00', '2.280994E+00', '2.283373E+00', '2.285049E+00', '2.286165E+00', '2.287841E+00', '2.290074E+00', '2.292308E+00', '2.294541E+00', '2.296217E+00', '2.297333E+00', '2.299009E+00', '2.301560E+00', '2.304430E+00', '2.306583E+00', '2.308018E+00', '2.309453E+00', '2.310888E+00', '2.312697E+00', '2.314880E+00', '2.317063E+00', '2.319246E+00', '2.321429E+00', '2.323612E+00', '2.325795E+00', '2.327978E+00', '2.329818E+00', '2.331314E+00', '2.333558E+00', '2.335802E+00', '2.337298E+00', '2.339542E+00', '2.342326E+00', '2.344903E+00', '2.346836E+00', '2.348125E+00', '2.350057E+00', '2.353087E+00', '2.355700E+00', '2.357442E+00', '2.359183E+00', '2.360925E+00', '2.362667E+00', '2.364408E+00', '2.366014E+00', '2.367484E+00', '2.368954E+00', '2.370423E+00', '2.372628E+00', '2.375568E+00', '2.377763E+00', '2.379213E+00', '2.381388E+00', '2.384289E+00', '2.387190E+00', '2.389649E+00', '2.391666E+00', '2.393684E+00', '2.395701E+00', '2.397676E+00', '2.399610E+00', '2.401543E+00', '2.403476E+00', '2.405410E+00', '2.407343E+00', '2.410243E+00', '2.413006E+00', '2.414666E+00', '2.416326E+00', '2.417986E+00', '2.419714E+00', '2.421509E+00', '2.423304E+00', '2.425099E+00', '2.426894E+00', '2.428689E+00', '2.430484E+00', '2.432279E+00', '2.434011E+00', '2.435680E+00', '2.437349E+00', '2.439019E+00', '2.440688E+00', '2.442357E+00', '2.444027E+00', '2.446543E+00', '2.449494E+00', '2.452033E+00', '2.454150E+00', '2.455843E+00', '2.457536E+00', '2.459229E+00', '2.461353E+00', '2.463908E+00', '2.466462E+00', '2.468860E+00', '2.471103E+00', '2.472706E+00', '2.473672E+00', '2.475119E+00', '2.477049E+00', '2.478980E+00', '2.480910E+00', '2.482840E+00', '2.484740E+00', '2.486609E+00', '2.488448E+00', '2.490257E+00', '2.492065E+00', '2.493874E+00', '2.495682E+00', '2.497491E+00', '2.499126E+00', '2.500588E+00', '2.502156E+00', '2.503829E+00', '2.505224E+00', '2.506339E+00', '2.508012E+00', '2.509686E+00', '2.510801E+00', '2.512195E+00', '2.513869E+00', '2.515542E+00', '2.517215E+00', '2.518913E+00', '2.520636E+00', '2.522359E+00', '2.524082E+00', '2.525805E+00', '2.527528E+00', '2.530112E+00', '2.533134E+00', '2.535731E+00', '2.538761E+00', '2.542224E+00', '2.545478E+00', '2.549623E+00', '2.554216E+00', '2.557520E+00', '2.560862E+00', '2.564872E+00', '2.568657E+00', '2.572219E+00', '2.575780E+00', '2.578966E+00', '2.581777E+00', '2.584213E+00', '2.586273E+00', '2.589363E+00', '2.592968E+00', '2.596058E+00', '2.599070E+00', '2.602002E+00', '2.604934E+00', '2.607866E+00', '2.610805E+00', '2.613751E+00', '2.616698E+00', '2.619823E+00', '2.622302E+00', '2.623955E+00', '2.626820E+00', '2.629981E+00', '2.632308E+00', '2.634717E+00', '2.636999E+00', '2.639719E+00', '2.643001E+00', '2.645992E+00', '2.648692E+00', '2.650829E+00', '2.652404E+00', '2.654469E+00', '2.657022E+00', '2.659053E+00', '2.660561E+00', '2.662822E+00', '2.664987E+00', '2.666301E+00', '2.668272E+00', '2.670882E+00', '2.673476E+00', '2.675698E+00', '2.677548E+00', '2.679172E+00', '2.680570E+00', '2.682668E+00', '2.685439E+00', '2.688186E+00', '2.690519E+00', '2.692440E+00', '2.695320E+00', '2.698341E+00', '2.699991E+00', '2.701092E+00', '2.702502E+00', '2.704222E+00', '2.705942E+00', '2.707662E+00', '2.709666E+00', '2.711954E+00', '2.714253E+00', '2.716563E+00', '2.718759E+00', '2.720841E+00', '2.722923E+00', '2.725006E+00', '2.726629E+00', '2.727792E+00', '2.728956E+00', '2.730120E+00', '2.731865E+00', '2.734192E+00', '2.736074E+00', '2.737512E+00', '2.738949E+00', '2.740386E+00', '2.742813E+00', '2.745376E+00', '2.747084E+00', '2.749540E+00', '2.751941E+00', '2.753543E+00', '2.755289E+00', '2.757181E+00', '2.759073E+00', '2.760964E+00', '2.763110E+00', '2.765508E+00', '2.767907E+00', '2.770123E+00', '2.772155E+00', '2.774420E+00', '2.776293E+00', '2.777542E+00', '2.778887E+00', '2.780329E+00', '2.781772E+00', '2.783214E+00', '2.785377E+00', '2.787540E+00', '2.788983E+00', '2.790648E+00', '2.792537E+00', '2.794426E+00', '2.796315E+00', '2.798204E+00', '2.800093E+00', '2.801982E+00', '2.803871E+00', '2.806136E+00', '2.808054E+00', '2.809248E+00', '2.811039E+00', '2.812767E+00', '2.813834E+00', '2.815434E+00', '2.817442E+00', '2.819322E+00', '2.821076E+00', '2.822756E+00', '2.824489E+00', '2.825842E+00', '2.827302E+00', '2.828761E+00', '2.830274E+00', '2.832231E+00', '2.834093E+00', '2.835859E+00', '2.837529E+00', '2.838876E+00', '2.840409E+00', '2.841941E+00', '2.843439E+00', '2.845413E+00', '2.847166E+00', '2.848697E+00', '2.850150E+00', '2.851525E+00', '2.852822E+00', '2.854042E+00', '2.855882E+00', '2.858354E+00', '2.860099E+00', '2.861107E+00', '2.862774E+00', '2.865236E+00', '2.867139E+00', '2.868346E+00', '2.869550E+00', '2.870750E+00', '2.871999E+00', '2.873298E+00', '2.874558E+00', '2.876284E+00', '2.878442E+00', '2.880694E+00', '2.882573E+00', '2.883915E+00', '2.885258E+00', '2.886485E+00', '2.887596E+00', '2.889177E+00', '2.890824E+00', '2.892068E+00', '2.893411E+00', '2.894854E+00', '2.896390E+00', '2.898017E+00', '2.899700E+00', '2.901439E+00', '2.902848E+00', '2.903927E+00', '2.905007E+00', '2.906344E+00', '2.907939E+00', '2.909307E+00', '2.910448E+00', '2.911643E+00', '2.913441E+00', '2.915241E+00', '2.916496E+00', '2.917486E+00', '2.918214E+00', '2.919274E+00', '2.921547E+00', '2.926743E+00', '2.933623E+00', '2.941664E+00', '2.949353E+00', '2.956462E+00', '2.964346E+00', '2.970035E+00', '2.973100E+00', '2.974646E+00', '2.976139E+00', '2.977668E+00', '2.978765E+00', '2.979595E+00', '2.979993E+00', '2.980281E+00', '2.980514E+00', '2.980784E+00', '2.981061E+00', '2.981280E+00', '2.981522E+00', '2.981716E+00', '2.981824E+00', '2.981896E+00', '2.982003E+00', '2.982167E+00', '2.982394E+00', '2.982592E+00', '2.982695E+00', '2.982773E+00', '2.982853E+00', '2.982935E+00', '2.983069E+00', '2.983215E+00', '2.983313E+00', '2.983405E+00', '2.983481E+00', '2.983537E+00', '2.983616E+00', '2.983723E+00', '2.983833E+00', '2.983917E+00', '2.983976E+00', '2.984059E+00', '2.984177E+00', '2.984272E+00', '2.984335E+00', '2.984385E+00', '2.984421E+00', '2.984446E+00', '2.984461E+00', '2.984472E+00', '2.984479E+00', '2.984489E+00', '2.984509E+00', '2.984544E+00', '2.984589E+00', '2.984657E+00', '2.984814E+00', '2.984982E+00', '2.985114E+00', '2.985248E+00', '2.985366E+00', '2.985491E+00', '2.985666E+00', '2.985821E+00', '2.985891E+00', '2.985941E+00', '2.985982E+00', '2.986013E+00', '2.986052E+00', '2.986098E+00', '2.986156E+00', '2.986248E+00', '2.986378E+00', '2.986492E+00', '2.986572E+00', '2.986688E+00', '2.986800E+00', '2.986904E+00', '2.987008E+00', '2.987062E+00', '2.987098E+00', '2.987139E+00', '2.987184E+00', '2.987230E+00', '2.987275E+00', '2.987344E+00', '2.987440E+00', '2.987541E+00', '2.987613E+00', '2.987657E+00', '2.987713E+00', '2.987825E+00', '2.987934E+00', '2.988010E+00', '2.988073E+00', '2.988101E+00', '2.988121E+00', '2.988140E+00', '2.988157E+00', '2.988186E+00', '2.988225E+00', '2.988272E+00', '2.988335E+00', '2.988407E+00', '2.988474E+00', '2.988535E+00', '2.988583E+00', '2.988619E+00', '2.988673E+00', '2.988768E+00', '2.988856E+00', '2.988911E+00', '2.988955E+00', '2.988980E+00', '2.988991E+00', '2.988999E+00', '2.989010E+00', '2.989023E+00', '2.989043E+00', '2.989078E+00', '2.989121E+00', '2.989181E+00', '2.989257E+00', '2.989336E+00', '2.989395E+00', '2.989426E+00', '2.989450E+00', '2.989463E+00', '2.989469E+00', '2.989473E+00', '2.989478E+00', '2.989485E+00', '2.989496E+00', '2.989511E+00', '2.989531E+00', '2.989558E+00', '2.989592E+00', '2.989651E+00', '2.989705E+00', '2.989757E+00', '2.989809E+00', '2.989842E+00', '2.989892E+00', '2.989967E+00', '2.990051E+00', '2.990138E+00', '2.990213E+00', '2.990280E+00', '2.990335E+00', '2.990363E+00', '2.990384E+00', '2.990404E+00', '2.990414E+00', '2.990422E+00', '2.990435E+00', '2.990456E+00', '2.990494E+00', '2.990533E+00', '2.990561E+00', '2.990608E+00', '2.990658E+00', '2.990683E+00', '2.990698E+00', '2.990719E+00', '2.990747E+00', '2.990788E+00', '2.990829E+00', '2.990850E+00', '2.990875E+00', '2.990927E+00', '2.990996E+00', '2.991060E+00', '2.991150E+00', '2.991267E+00', '2.991423E+00', '2.991618E+00', '2.991891E+00', '2.992243E+00', '2.992814E+00', '2.993603E+00', '2.994768E+00', '2.996308E+00', '2.997794E+00', '2.999225E+00', '3.000478E+00', '3.001552E+00', '3.003162E+00', '3.004773E+00', '3.005847E+00', '3.007457E+00', '3.009299E+00', '3.010451E+00', '3.011219E+00', '3.012370E+00', '3.013906E+00', '3.015084E+00', '3.015904E+00', '3.016724E+00', '3.018090E+00', '3.019867E+00', '3.021233E+00', '3.022599E+00', '3.023829E+00', '3.024649E+00', '3.025879E+00', '3.027792E+00', '3.029432E+00', '3.030525E+00', '3.031618E+00', '3.032711E+00', '3.034351E+00', '3.035991E+00', '3.037084E+00', '3.038245E+00', '3.039474E+00', '3.040702E+00', '3.041931E+00', '3.043774E+00', '3.047460E+00', '3.051146E+00', '3.053091E+00', '3.054167E+00', '3.055242E+00', '3.057035E+00', '3.059185E+00', '3.062053E+00', '3.064684E+00', '3.065943E+00', '3.066782E+00', '3.067621E+00', '3.068459E+00', '3.069718E+00', '3.070976E+00', '3.072235E+00', '3.073939E+00', '3.075695E+00', '3.077032E+00', '3.077923E+00', '3.079260E+00', '3.081541E+00', '3.083953E+00', '3.085998E+00', '3.087466E+00', '3.088357E+00', '3.089107E+00', '3.090010E+00', '3.091322E+00', '3.092457E+00', '3.093298E+00', '3.094139E+00', '3.095022E+00', '3.095947E+00', '3.096830E+00', '3.097671E+00', '3.098260E+00', '3.098596E+00', '3.099101E+00', '3.100110E+00', '3.101176E+00', '3.101961E+00', '3.102802E+00', '3.103587E+00', '3.104596E+00', '3.105773E+00', '3.106782E+00', '3.107909E+00', '3.108841E+00', '3.109463E+00', '3.110183E+00', '3.111003E+00', '3.112079E+00', '3.113576E+00', '3.114865E+00', '3.115780E+00', '3.116665E+00', '3.117529E+00', '3.118401E+00', '3.119322E+00', '3.120668E+00', '3.121904E+00', '3.122820E+00', '3.123716E+00', '3.124257E+00', '3.124538E+00', '3.124725E+00', '3.124912E+00', '3.125052E+00', '3.125175E+00', '3.125303E+00', '3.125391E+00', '3.125500E+00', '3.125618E+00', '3.125725E+00', '3.125839E+00', '3.126015E+00', '3.126313E+00', '3.126792E+00', '3.127684E+00', '3.129106E+00', '3.130388E+00', '3.131280E+00', '3.132116E+00', '3.132924E+00', '3.134161E+00', '3.135381E+00', '3.136049E+00', '3.136582E+00', '3.137383E+00', '3.138450E+00', '3.139517E+00', '3.140584E+00', '3.141562E+00', '3.142452E+00', '3.143252E+00', '3.144319E+00', '3.145386E+00', '3.146454E+00', '3.147880E+00', '3.148905E+00', '3.149529E+00', '3.150465E+00', '3.151623E+00', '3.152693E+00', '3.153763E+00', '3.154832E+00', '3.155902E+00', '3.156972E+00', '3.158043E+00', '3.159115E+00', '3.160186E+00', '3.161168E+00', '3.162285E+00', '3.163290E+00', '3.163960E+00', '3.164965E+00', '3.166305E+00', '3.167377E+00', '3.168181E+00', '3.169120E+00', '3.170192E+00', '3.171442E+00', '3.172872E+00', '3.174046E+00', '3.174966E+00', '3.175899E+00', '3.176845E+00', '3.177894E+00', '3.179045E+00', '3.180195E+00', '3.181055E+00', '3.181629E+00', '3.182486E+00', '3.183626E+00', '3.184695E+00', '3.185692E+00', '3.186618E+00', '3.187473E+00', '3.188435E+00', '3.189505E+00', '3.190642E+00', '3.191838E+00', '3.193027E+00', '3.193916E+00', '3.194504E+00', '3.195318E+00', '3.196359E+00', '3.197455E+00', '3.198649E+00', '3.199576E+00', '3.200193E+00', '3.201145E+00', '3.202431E+00', '3.203620E+00', '3.204710E+00', '3.205827E+00', '3.206971E+00', '3.208114E+00', '3.209258E+00', '3.210308E+00', '3.211264E+00', '3.212221E+00', '3.213178E+00', '3.214135E+00', '3.215091E+00', '3.216048E+00', '3.217005E+00', '3.218068E+00', '3.219238E+00', '3.220408E+00', '3.221579E+00', '3.222749E+00', '3.223919E+00', '3.225089E+00', '3.226259E+00', '3.227267E+00', '3.228112E+00', '3.228957E+00', '3.229803E+00', '3.231071E+00', '3.232339E+00', '3.233184E+00', '3.234199E+00', '3.235384E+00', '3.236569E+00', '3.237753E+00', '3.238938E+00', '3.240123E+00', '3.241308E+00', '3.242493E+00', '3.243662E+00', '3.244817E+00', '3.245972E+00', '3.247127E+00', '3.248282E+00', '3.249437E+00', '3.250592E+00', '3.251747E+00', '3.253085E+00', '3.254225E+00', '3.255366E+00', '3.256887E+00', '3.258027E+00', '3.258987E+00', '3.260146E+00', '3.261306E+00', '3.262465E+00', '3.263624E+00', '3.264783E+00', '3.265943E+00', '3.267102E+00', '3.268050E+00', '3.269154E+00', '3.270258E+00', '3.271361E+00', '3.272833E+00', '3.274305E+00', '3.275777E+00', '3.277249E+00', '3.278721E+00', '3.280073E+00', '3.281306E+00', '3.282539E+00', '3.283772E+00', '3.285332E+00', '3.286748E+00', '3.287692E+00', '3.288636E+00', '3.290052E+00', '3.291469E+00', '3.292749E+00', '3.293962E+00', '3.294771E+00', '3.295984E+00', '3.297601E+00', '3.299258E+00', '3.300953E+00', '3.302225E+00', '3.303073E+00', '3.304345E+00', '3.305743E+00', '3.306844E+00', '3.307945E+00', '3.309046E+00', '3.310147E+00', '3.311248E+00', '3.312349E+00', '3.313449E+00', '3.314635E+00', '3.315905E+00', '3.317176E+00', '3.318446E+00', '3.319716E+00', '3.320986E+00', '3.322257E+00', '3.323527E+00', '3.324659E+00', '3.326151E+00', '3.327643E+00', '3.328637E+00', '3.330129E+00', '3.331621E+00', '3.332590E+00', '3.333535E+00', '3.334951E+00', '3.336368E+00', '3.337312E+00', '3.338728E+00', '3.340282E+00', '3.341501E+00', '3.342720E+00', '3.343939E+00', '3.345322E+00', '3.346868E+00', '3.348414E+00', '3.349960E+00', '3.351582E+00', '3.353281E+00', '3.354981E+00', '3.356680E+00', '3.358256E+00', '3.359711E+00', '3.361165E+00', '3.362619E+00', '3.363925E+00', '3.365081E+00', '3.366237E+00', '3.367394E+00', '3.368550E+00', '3.369706E+00', '3.370862E+00', '3.372019E+00', '3.373392E+00', '3.374981E+00', '3.376570E+00', '3.377762E+00', '3.378556E+00', '3.379668E+00', '3.381097E+00', '3.382525E+00', '3.383954E+00', '3.385382E+00', '3.386811E+00', '3.388239E+00', '3.389668E+00', '3.390921E+00', '3.391998E+00', '3.393613E+00', '3.395229E+00', '3.396306E+00', '3.397921E+00', '3.399463E+00', '3.400393E+00', '3.401788E+00', '3.403648E+00', '3.405508E+00', '3.407247E+00', '3.408865E+00', '3.411291E+00', '3.414192E+00', '3.418544E+00', '3.424484E+00', '3.434327E+00', '3.445809E+00', '3.456393E+00', '3.470573E+00', '3.484210E+00', '3.496047E+00', '3.505899E+00', '3.515391E+00', '3.528419E+00', '3.541298E+00', '3.554265E+00', '3.568362E+00', '3.582263E+00', '3.596342E+00', '3.611534E+00', '3.627023E+00', '3.641615E+00', '3.653901E+00', '3.667981E+00', '3.681295E+00', '3.689952E+00', '3.697517E+00', '3.706650E+00', '3.717119E+00', '3.724667E+00', '3.734511E+00', '3.749537E+00', '3.761520E+00', '3.772052E+00', '3.782764E+00', '3.795521E+00', '3.809544E+00', '3.818565E+00', '3.825181E+00', '3.834501E+00', '3.847097E+00', '3.858850E+00', '3.870067E+00', '3.878838E+00', '3.885162E+00', '3.895169E+00', '3.905288E+00', '3.913316E+00', '3.924792E+00', '3.936696E+00', '3.945641E+00', '3.955453E+00', '3.967873E+00', '3.980299E+00', '3.992010E+00', '4.000942E+00', '4.009556E+00', '4.018261E+00', '4.029742E+00', '4.043372E+00', '4.053925E+00', '4.066342E+00', '4.079288E+00', '4.088841E+00', '4.096498E+00', '4.106571E+00', '4.117087E+00', '4.127880E+00', '4.141364E+00', '4.151946E+00', '4.159491E+00', '4.169067E+00', '4.179216E+00', '4.186460E+00', '4.196148E+00', '4.207310E+00', '4.217388E+00', '4.227649E+00', '4.238148E+00', '4.247672E+00', '4.253555E+00', '4.259501E+00', '4.266926E+00', '4.274808E+00', '4.283879E+00', '4.291543E+00', '4.299673E+00', '4.309215E+00', '4.316205E+00', '4.324187E+00', '4.332775E+00', '4.341063E+00', '4.351436E+00', '4.361982E+00', '4.370027E+00', '4.379951E+00', '4.391684E+00', '4.399954E+00', '4.409563E+00', '4.419211E+00', '4.426046E+00', '4.435943E+00', '4.446023E+00', '4.453223E+00', '4.460268E+00', '4.467160E+00', '4.476642E+00', '4.485722E+00', '4.491812E+00', '4.498061E+00', '4.505215E+00', '4.513113E+00', '4.522715E+00', '4.530928E+00', '4.536048E+00', '4.543727E+00', '4.553753E+00', '4.560899E+00', '4.565378E+00', '4.569431E+00', '4.575298E+00', '4.583588E+00', '4.589688E+00', '4.594714E+00', '4.600056E+00', '4.604412E+00', '4.607865E+00', '4.610415E+00', '4.614492E+00', '4.619777E+00', '4.625369E+00', '4.630030E+00', '4.633138E+00', '4.635900E+00', '4.638317E+00', '4.641916E+00', '4.647016E+00', '4.652169E+00', '4.655728E+00', '4.657959E+00', '4.661067E+00', '4.665211E+00', '4.668327E+00', '4.670021E+00', '4.672306E+00', '4.675880E+00', '4.679156E+00', '4.681816E+00', '4.684056E+00', '4.685765E+00', '4.688649E+00', '4.691785E+00', '4.694305E+00', '4.696747E+00', '4.698794E+00', '4.700404E+00', '4.702015E+00', '4.703847E+00', '4.706261E+00', '4.708591E+00', '4.710401E+00', '4.712447E+00', '4.714183E+00', '4.715740E+00', '4.717262E+00', '4.719075E+00', '4.721034E+00', '4.722722E+00', '4.724356E+00', '4.726025E+00', '4.728073E+00', '4.729868E+00', '4.730859E+00', '4.732038E+00', '4.733808E+00', '4.735380E+00', '4.736540E+00', '4.737640E+00', '4.739141E+00', '4.740643E+00', '4.741438E+00', '4.742365E+00', '4.743822E+00', '4.745013E+00', '4.745905E+00', '4.746897E+00', '4.747690E+00', '4.748285E+00', '4.749288E+00', '4.750390E+00', '4.751161E+00', '4.751911E+00', '4.752638E+00', '4.753608E+00', '4.754763E+00', '4.755543E+00', '4.756028E+00', '4.756622E+00', '4.757325E+00', '4.758112E+00', '4.758931E+00', '4.759694E+00', '4.760240E+00', '4.760785E+00', '4.761385E+00', '4.762112E+00', '4.762876E+00', '4.763385E+00', '4.763931E+00', '4.764512E+00', '4.765094E+00', '4.765700E+00', '4.766331E+00', '4.766791E+00', '4.767082E+00', '4.767519E+00', '4.768125E+00', '4.768597E+00', '4.768912E+00', '4.769409E+00', '4.769919E+00', '4.770258E+00', '4.770573E+00', '4.770864E+00', '4.771349E+00', '4.771858E+00', '4.772197E+00', '4.772658E+00', '4.773082E+00', '4.773349E+00', '4.773615E+00', '4.773882E+00', '4.774222E+00', '4.774634E+00', '4.774943E+00', '4.775149E+00', '4.775355E+00', '4.775561E+00', '4.775858E+00', '4.776246E+00', '4.776537E+00', '4.776731E+00', '4.777022E+00', '4.777337E+00', '4.777579E+00', '4.777761E+00', '4.777882E+00', '4.778064E+00', '4.778379E+00', '4.778670E+00', '4.778864E+00', '4.779155E+00', '4.779446E+00', '4.779640E+00', '4.779900E+00', '4.780144E+00', '4.780307E+00', '4.780539E+00', '4.780841E+00', '4.781142E+00', '4.781444E+00', '4.781887E+00', '4.782472E+00', '4.782919E+00', '4.783227E+00', '4.783682E+00', '4.784283E+00', '4.785061E+00', '4.786031E+00', '4.786955E+00', '4.788157E+00', '4.789328E+00', '4.790160E+00', '4.791423E+00', '4.792625E+00', '4.793364E+00', '4.794011E+00', '4.794473E+00', '4.794750E+00', '4.795028E+00', '4.795374E+00', '4.795698E+00', '4.795940E+00', '4.796102E+00', '4.796345E+00', '4.796707E+00', '4.797007E+00', '4.797208E+00', '4.797408E+00', '4.797608E+00', '4.797808E+00', '4.798009E+00', '4.798309E+00', '4.798609E+00', '4.798810E+00', '4.799010E+00', '4.799210E+00', '4.799511E+00', '4.799828E+00', '4.800061E+00', '4.800295E+00', '4.800529E+00', '4.800762E+00', '4.800996E+00', '4.801230E+00', '4.801463E+00', '4.801780E+00', '4.802081E+00', '4.802281E+00', '4.802581E+00', '4.802882E+00', '4.803082E+00', '4.803299E+00', '4.803533E+00', '4.803883E+00', '4.804234E+00', '4.804467E+00', '4.804701E+00', '4.804935E+00', '4.805252E+00', '4.805552E+00', '4.805752E+00', '4.806053E+00', '4.806353E+00', '4.806553E+00', '4.806820E+00', '4.807154E+00', '4.807488E+00', '4.807822E+00', '4.808105E+00', '4.808339E+00', '4.808690E+00', '4.809040E+00', '4.809274E+00', '4.809507E+00', '4.809741E+00', '4.810075E+00', '4.810509E+00', '4.810834E+00', '4.811051E+00', '4.811377E+00', '4.811744E+00', '4.812044E+00', '4.812344E+00', '4.812814E+00', '4.813303E+00', '4.813642E+00', '4.813981E+00', '4.814320E+00', '4.814659E+00', '4.814998E+00', '4.815337E+00', '4.815845E+00', '4.816354E+00', '4.816693E+00', '4.816975E+00', '4.817201E+00', '4.817540E+00', '4.817991E+00', '4.818330E+00', '4.818725E+00', '4.819177E+00', '4.819515E+00', '4.819854E+00', '4.820305E+00', '4.820729E+00', '4.821138E+00', '4.821533E+00', '4.821913E+00', '4.822421E+00', '4.822928E+00', '4.823351E+00', '4.823690E+00', '4.824028E+00', '4.824507E+00', '4.824958E+00', '4.825381E+00', '4.825921E+00', '4.826439E+00', '4.826956E+00', '4.827344E+00', '4.827787E+00', '4.828469E+00', '4.829022E+00', '4.829391E+00', '4.829759E+00', '4.830312E+00', '4.830896E+00', '4.831326E+00', '4.831755E+00', '4.832431E+00', '4.833137E+00', '4.833628E+00', '4.834119E+00', '4.834793E+00', '4.835438E+00', '4.836051E+00', '4.836818E+00', '4.837584E+00', '4.838197E+00', '4.838841E+00', '4.839515E+00', '4.840006E+00', '4.840741E+00', '4.841507E+00', '4.842058E+00', '4.842747E+00', '4.843665E+00', '4.844536E+00', '4.845269E+00', '4.846002E+00', '4.846980E+00', '4.847957E+00', '4.848690E+00', '4.849423E+00', '4.850522E+00', '4.851560E+00', '4.852338E+00', '4.853314E+00', '4.854154E+00', '4.855130E+00', '4.856625E+00', '4.857892E+00', '4.858807E+00', '4.860043E+00', '4.861141E+00', '4.862239E+00', '4.863338E+00', '4.864375E+00', '4.865626E+00', '4.866754E+00', '4.867944E+00', '4.868950E+00', '4.870200E+00', '4.871633E+00', '4.872781E+00', '4.874031E+00', '4.875220E+00', '4.876647E+00', '4.878033E+00', '4.879135E+00', '4.880734E+00', '4.882368E+00', '4.883860E+00', '4.885352E+00', '4.886631E+00', '4.888620E+00', '4.890806E+00', '4.892322E+00', '4.893828E+00', '4.895425E+00', '4.897048E+00', '4.899035E+00', '4.901629E+00', '4.903981E+00', '4.905845E+00', '4.907709E+00', '4.909249E+00', '4.911356E+00', '4.914164E+00', '4.916317E+00', '4.918193E+00', '4.920337E+00', '4.922634E+00', '4.925390E+00', '4.927839E+00', '4.930289E+00', '4.932979E+00', '4.935848E+00', '4.939076E+00', '4.941292E+00', '4.943275E+00', '4.946579E+00', '4.950484E+00', '4.953368E+00', '4.955925E+00', '4.959378E+00', '4.963350E+00', '4.966458E+00', '4.969565E+00', '4.973708E+00', '4.976987E+00', '4.980180E+00', '4.984149E+00', '4.989929E+00', '4.995277E+00', '4.999149E+00', '5.003685E+00', '5.007498E+00', '5.011415E+00', '5.016980E+00', '5.022235E+00', '5.027644E+00', '5.033516E+00', '5.039491E+00', '5.046838E+00', '5.052331E+00', '5.057823E+00', '5.065490E+00', '5.073621E+00', '5.081083E+00', '5.087698E+00', '5.094851E+00', '5.101696E+00', '5.109540E+00', '5.119151E+00', '5.128223E+00', '5.135141E+00', '5.140676E+00', '5.149933E+00', '5.161969E+00', '5.171778E+00', '5.179169E+00', '5.188012E+00', '5.197300E+00', '5.208730E+00', '5.223253E+00', '5.232775E+00', '5.242738E+00', '5.253968E+00', '5.266640E+00', '5.280742E+00', '5.290910E+00', '5.305141E+00', '5.323821E+00', '5.341359E+00', '5.354419E+00', '5.367086E+00', '5.380552E+00', '5.395012E+00', '5.413060E+00', '5.435926E+00', '5.457724E+00', '5.474696E+00', '5.497599E+00', '5.520482E+00', '5.539222E+00', '5.564218E+00', '5.585840E+00', '5.601637E+00', '5.620935E+00', '5.645451E+00', '5.674790E+00', '5.698837E+00', '5.717633E+00', '5.747623E+00', '5.778163E+00', '5.805383E+00', '5.836830E+00', '5.858866E+00', '5.880482E+00', '5.920655E+00', '5.957714E+00', '5.993137E+00', '6.030428E+00', '6.065971E+00', '6.105437E+00', '6.140586E+00', '6.171125E+00', '6.211196E+00', '6.254794E+00', '6.283804E+00', '6.321779E+00', '6.367908E+00', '6.411649E+00', '6.457614E+00', '6.509609E+00', '6.555612E+00', '6.602537E+00', '6.654139E+00', '6.708027E+00', '6.754608E+00', '6.790350E+00', '6.845543E+00', '6.897880E+00', '6.936123E+00', '6.989580E+00', '7.050126E+00', '7.099848E+00', '7.150251E+00', '7.196167E+00', '7.248703E+00', '7.319135E+00', '7.376361E+00', '7.426811E+00', '7.492181E+00', '7.563590E+00', '7.629543E+00', '7.686526E+00', '7.751567E+00', '7.821670E+00', '7.880009E+00', '7.951916E+00', '8.036297E+00', '8.094814E+00', '8.145905E+00', '8.203773E+00', '8.256083E+00', '8.321399E+00', '8.389990E+00', '8.450767E+00', '8.509965E+00', '8.556673E+00', '8.613792E+00', '8.692464E+00', '8.754662E+00', '8.813291E+00', '8.866905E+00', '8.911505E+00', '8.962683E+00', '9.022524E+00', '9.093502E+00', '9.158944E+00', '9.205478E+00', '9.257594E+00', '9.326357E+00', '9.388408E+00', '9.434885E+00', '9.478784E+00', '9.545219E+00', '9.605816E+00', '9.666767E+00', '9.732545E+00', '9.788746E+00', '9.855455E+00', '9.917947E+00', '9.972251E+00', '1.001834E+01', '1.005802E+01', '1.012370E+01', '1.019336E+01', '1.025839E+01', '1.031634E+01', '1.035611E+01', '1.041331E+01', '1.047620E+01', '1.052041E+01', '1.056856E+01', '1.062650E+01', '1.066818E+01', '1.070431E+01', '1.073832E+01', '1.078324E+01', '1.082819E+01', '1.087049E+01', '1.091213E+01', '1.094002E+01', '1.098053E+01', '1.102699E+01', '1.106877E+01', '1.109953E+01', '1.112110E+01', '1.114477E+01', '1.117440E+01', '1.121009E+01', '1.123770E+01', '1.125686E+01', '1.128559E+01', '1.131269E+01', '1.133449E+01', '1.135765E+01', '1.137613E+01', '1.140361E+01', '1.143632E+01', '1.145596E+01', '1.147154E+01', '1.149719E+01', '1.152318E+01', '1.154074E+01', '1.155547E+01', '1.157828E+01', '1.160023E+01', '1.161322E+01', '1.162622E+01', '1.164289E+01', '1.165814E+01', '1.167318E+01', '1.168800E+01', '1.170262E+01', '1.172108E+01', '1.173332E+01', '1.174387E+01', '1.175989E+01', '1.177964E+01', '1.180279E+01', '1.182222E+01', '1.183553E+01', '1.185516E+01', '1.187471E+01', '1.188610E+01', '1.189646E+01', '1.191188E+01', '1.192707E+01', '1.193624E+01', '1.194563E+01', '1.195816E+01', '1.196895E+01', '1.197795E+01', '1.198943E+01', '1.199910E+01', '1.200672E+01', '1.201240E+01', '1.201841E+01', '1.202666E+01', '1.203257E+01', '1.203613E+01', '1.203924E+01', '1.204191E+01', '1.204467E+01', '1.204752E+01', '1.204993E+01', '1.205190E+01', '1.205338E+01', '1.205439E+01', '1.205540E+01', '1.205640E+01', '1.205716E+01', '1.205766E+01', '1.205842E+01', '1.205942E+01', '1.206068E+01', '1.206181E+01', '1.206257E+01', '1.206345E+01', '1.206445E+01', '1.206569E+01', '1.206753E+01', '1.207019E+01', '1.207245E+01', '1.207384E+01', '1.207628E+01', '1.207938E+01', '1.208269E+01', '1.208606E+01', '1.208860E+01', '1.209064E+01', '1.209285E+01', '1.209576E+01', '1.209889E+01', '1.210162E+01', '1.210358E+01', '1.210564E+01', '1.210755E+01', '1.210909E+01', '1.211159E+01', '1.211398E+01', '1.211615E+01', '1.211945E+01', '1.212276E+01', '1.212636E+01', '1.212990E+01', '1.213257E+01', '1.213483E+01', '1.213780E+01', '1.214094E+01', '1.214343E+01', '1.214577E+01', '1.214735E+01', '1.214919E+01', '1.215104E+01', '1.215208E+01', '1.215262E+01', '1.215290E+01', '1.215303E+01', '1.215312E+01', '1.215319E+01', '1.215325E+01', '1.215329E+01', '1.215332E+01', '1.215334E+01', '1.215336E+01', '1.215338E+01', '1.215339E+01', '1.215339E+01', '1.215340E+01', '1.215340E+01', '1.215340E+01', '1.215340E+01', '1.215341E+01', '1.215341E+01', '1.215341E+01', '1.215341E+01', '1.215341E+01', '1.215341E+01', '1.215341E+01', '1.215341E+01', '1.215341E+01', '1.215341E+01', '1.215341E+01', '1.215341E+01', '1.215341E+01', '1.215341E+01', '1.215341E+01', '1.215341E+01', '1.215341E+01', '1.215341E+01', '1.215341E+01', '1.215341E+01', '1.215341E+01', '1.215341E+01', '1.215341E+01', '1.215341E+01']\n"
     ]
    }
   ],
   "source": [
    "filename = 'm15z0p02_abundances_mass.txt'\n",
    "\n",
    "with open(filename) as f:\n",
    "    data = f.read()\n",
    "    lines = data.split(\"\\n\") #split each line to list\n",
    "    \n",
    "    Mass_msun = []\n",
    "    \n",
    "    H_isotope = []\n",
    "    He_isotope = []\n",
    "    C_isotope = []\n",
    "    N_isotope = []\n",
    "    O_isotope = []\n",
    "    Si_isotope = []\n",
    "    Ni_isotope = []\n",
    "    \n",
    "    \n",
    "    for line in lines: #loop through the list of lines\n",
    "        try:\n",
    "            new_data = line.split() #split space in each line to list\n",
    "            new_lis = new_data[0] #get the index 0 of eachline\n",
    "            Mass_msun.append(new_lis) #append to Mass_msun\n",
    "            new_lis = new_data[1]\n",
    "            H_isotope.append(new_lis)\n",
    "            new_lis = new_data[2]           \n",
    "            He_isotope.append(new_lis)\n",
    "            new_lis = new_data[3]\n",
    "            C_isotope.append(new_lis)\n",
    "            new_lis = new_data[4]\n",
    "            N_isotope.append(new_lis)\n",
    "            new_lis = new_data[5]\n",
    "            O_isotope.append(new_lis)\n",
    "            new_lis = new_data[6]\n",
    "            Si_isotope.append(new_lis)\n",
    "            new_lis = new_data[7]\n",
    "            Ni_isotope.append(new_lis)\n",
    "            \n",
    "            \n",
    "            \n",
    "            \n",
    "        except:\n",
    "            print(\"\")\n",
    "    try:\n",
    "        Mass_msun.pop(0)\n",
    "        H_isotope.pop(0)\n",
    "        He_isotope.pop(0)\n",
    "        C_isotope.pop(0)\n",
    "        N_isotope.pop(0)\n",
    "        O_isotope.pop(0)\n",
    "        Si_isotope.pop(0)\n",
    "        Ni_isotope.pop(0)\n",
    "    except:\n",
    "        print()\n",
    "    \n",
    "    print(Mass_msun)\n",
    "\n",
    "    \n",
    "        \n",
    "\n"
   ]
  },
  {
   "cell_type": "markdown",
   "metadata": {},
   "source": [
    "Now, check that the arrays that you created are correct. Do they make sense? How would you check? You will notice that the mass coordinates will not start from zero. Where do the mass coordinates start? What is happening to the deeper material?\n",
    "\n"
   ]
  },
  {
   "cell_type": "code",
   "execution_count": 85,
   "metadata": {},
   "outputs": [
    {
     "name": "stdout",
     "output_type": "stream",
     "text": [
      "1.215341E+01\n"
     ]
    }
   ],
   "source": [
    "print(str(Mass_msun[2157]))\n"
   ]
  },
  {
   "cell_type": "markdown",
   "metadata": {},
   "source": [
    "Make a plot of the abundance, X (mass fraction) versus mass coordinates (in solar masses)"
   ]
  },
  {
   "cell_type": "code",
   "execution_count": 86,
   "metadata": {},
   "outputs": [
    {
     "data": {
      "image/png": "[encoded data removed]",
      "text/plain": [
       "<Figure size 432x288 with 1 Axes>"
      ]
     },
     "metadata": {
      "needs_background": "light"
     },
     "output_type": "display_data"
    }
   ],
   "source": [
    "\n",
    "fig, a = plt.subplots(1,1, squeeze=False)\n",
    "x = np.arange(1,10)\n",
    "\n",
    "\n",
    "\n",
    "H_mass = np.array(H_isotope)\n",
    "He_mass = np.array(He_isotope)\n",
    "C_mass = np.array(C_isotope)\n",
    "N_mass = np.array(N_isotope)\n",
    "O_mass = np.array(O_isotope)\n",
    "Si_mass = np.array(Si_isotope)\n",
    "Ni_mass = np.array(Ni_isotope)\n",
    "\n",
    "\n",
    "\n",
    "\n",
    "a[0][0].set_title('mass fraction vs mass coordinates')\n",
    "a[0][0].plot(H_mass[x], np.array(Mass_msun)[x])\n",
    "a[0][0].plot(He_mass[x], np.array(Mass_msun)[x])\n",
    "a[0][0].plot(C_mass[x], np.array(Mass_msun)[x])\n",
    "a[0][0].plot(N_mass[x], np.array(Mass_msun)[x])\n",
    "a[0][0].plot(O_mass[x], np.array(Mass_msun)[x])\n",
    "a[0][0].plot(Si_mass[x], np.array(Mass_msun)[x])\n",
    "a[0][0].plot(Ni_mass[x], np.array(Mass_msun)[x])\n",
    "\n",
    "\n",
    "\n",
    "    \n",
    "    \n",
    "    \n",
    "plt.setp(a[-1, :], xlabel='mass fraction')\n",
    "plt.setp(a[0, 0], ylabel='mass coordinates')\n",
    "\n",
    "\n",
    "plt.show()\n"
   ]
  },
  {
   "cell_type": "markdown",
   "metadata": {},
   "source": [
    "Oh! you got in the plot a onion-shell structure, but it is a bit different.. :)\n",
    "In the file, you have the abundances for the isotopes H, He4, C12, O16, Si28 and Ni56. \n",
    "Now calculate what is the abundance of these isotopes in the SN ejecta, in solar mass units. How would you do it? You have mass coordinates (in solar masses), and abundances in mass fraction. "
   ]
  },
  {
   "cell_type": "code",
   "execution_count": 87,
   "metadata": {},
   "outputs": [
    {
     "name": "stdout",
     "output_type": "stream",
     "text": [
      "[2.28637909e-034 2.28808956e-034 2.29200827e-034 ... 5.02785000e-133\n",
      " 5.02785000e-133 5.02785000e-133]\n"
     ]
    },
    {
     "name": "stderr",
     "output_type": "stream",
     "text": [
      "<ipython-input-87-61b91aaaf7a7>:2: DeprecationWarning: `np.float` is a deprecated alias for the builtin `float`. To silence this warning, use `float` by itself. Doing this will not modify any behavior and is safe. If you specifically wanted the numpy scalar type, use `np.float64` here.\n",
      "Deprecated in NumPy 1.20; for more details and guidance: https://numpy.org/devdocs/release/1.20.0-notes.html#deprecations\n",
      "  vector = np.vectorize(np.float)\n"
     ]
    }
   ],
   "source": [
    "# find abundance of isotope\n",
    "vector = np.vectorize(np.float)\n",
    "Solar_H_mass = vector(H_mass) * solar_masses\n",
    "Solar_He_mass =vector(He_mass) * solar_masses\n",
    "Solar_C_mass =vector(C_mass) * solar_masses\n",
    "Solar_N_mass =vector(N_mass) * solar_masses\n",
    "Solar_O_mass =vector(O_mass) * solar_masses \n",
    "Solar_Si_mass =vector(Si_mass) * solar_masses\n",
    "Solar_Ni_mass =vector(Ni_mass) * solar_masses\n",
    "\n",
    "\n",
    "\n",
    " #  print(Solar_H_mass)\n",
    " #  print(Solar_He_mass)\n",
    " #  print(Solar_C_mass)\n",
    " #  print(Solar_N_mass)\n",
    " #  print(Solar_O_mass)\n",
    " #  print(Solar_Si_mass)\n",
    "print(Solar_Ni_mass)\n",
    "\n"
   ]
  },
  {
   "cell_type": "markdown",
   "metadata": {},
   "source": [
    "What is the most abundant isotope among the ones considered? From the lecture, you may remember about Ni56. What do you know about the others?   "
   ]
  },
  {
   "cell_type": "code",
   "execution_count": 88,
   "metadata": {},
   "outputs": [
    {
     "name": "stdout",
     "output_type": "stream",
     "text": [
      "most abundant isotope is He: 4.930433897895e-34\n"
     ]
    }
   ],
   "source": [
    "\"\"\"print(max(Solar_H_mass))\n",
    "print(max(Solar_He_mass))\n",
    "print(max(Solar_C_mass))\n",
    "print(max(Solar_N_mass))\n",
    "print(max(Solar_O_mass))\n",
    "print(max(Solar_Si_mass))\n",
    "print(max(Solar_Ni_mass))\"\"\"\n",
    "\n",
    "a = [max(Solar_H_mass),\n",
    "     max(Solar_He_mass),\n",
    "    max(Solar_C_mass),\n",
    "    max(Solar_N_mass),\n",
    "    max(Solar_O_mass),\n",
    "    max(Solar_Si_mass),\n",
    "    max(Solar_Ni_mass)]\n",
    "\n",
    "max_abundance_e = []#max abundance of each element\n",
    "\n",
    "#most abundant isotope is He\n",
    "print(\"most abundant isotope is He:\", max(a))"
   ]
  }
 ],
 "metadata": {
  "kernelspec": {
   "display_name": "Python 3",
   "language": "python",
   "name": "python3"
  },
  "language_info": {
   "codemirror_mode": {
    "name": "ipython",
    "version": 3
   },
   "file_extension": ".py",
   "mimetype": "text/x-python",
   "name": "python",
   "nbconvert_exporter": "python",
   "pygments_lexer": "ipython3",
   "version": "3.8.10"
  }
 },
 "nbformat": 4,
 "nbformat_minor": 2
}
